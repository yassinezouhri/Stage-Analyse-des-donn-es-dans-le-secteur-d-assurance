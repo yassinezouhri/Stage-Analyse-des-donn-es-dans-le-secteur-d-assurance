{
 "cells": [
  {
   "cell_type": "code",
   "execution_count": 39,
   "id": "8fce0419-22e7-4c1d-9b26-11c3390bb127",
   "metadata": {},
   "outputs": [],
   "source": [
    "import pandas as pd \n"
   ]
  },
  {
   "cell_type": "code",
   "execution_count": 40,
   "id": "c5b24dbb-4b4c-4cd2-b48d-9bf96c10ffbf",
   "metadata": {},
   "outputs": [],
   "source": [
    "Rappel_Budget_2024 = pd.read_csv('Rappel_Budget_2024.csv')\n",
    "Activité_novembre = pd.read_csv('Activité_novembre.csv')\n",
    "Reseau1 = pd.read_csv('Reseau1.csv')\n",
    "Reseau2 = pd.read_csv('Reseau2.csv')\n",
    "Reseau3 = pd.read_csv('Reseau3.csv')"
   ]
  },
  {
   "cell_type": "code",
   "execution_count": 52,
   "id": "f20b86b1-eadd-486f-9ad4-a36957e89dc2",
   "metadata": {},
   "outputs": [],
   "source": [
    "Rappel_Budget_2024['Budget_2024vsCA_2023_num']=Rappel_Budget_2024['Budget_2024']-Rappel_Budget_2024['CA_2023']\n",
    "Rappel_Budget_2024['Budget_2024vsCA_2023_perc']=(Rappel_Budget_2024['Budget_2024vsCA_2023_num']*100 / Rappel_Budget_2024['CA_2023']).round(2)"
   ]
  },
  {
   "cell_type": "code",
   "execution_count": 54,
   "id": "b4bd1a9d-af8b-40c7-95f4-bdb4fdc5020c",
   "metadata": {},
   "outputs": [],
   "source": [
    "Activité_novembre['Var 24/23 num']=Activité_novembre['CA à fin novembre2024']-Activité_novembre['CA à fin novembre 2023']\n",
    "Activité_novembre['Var 24/23 perc']=(Activité_novembre['Var 24/23 num']*100 / Activité_novembre['CA à fin novembre 2023']).round(2)"
   ]
  },
  {
   "cell_type": "code",
   "execution_count": 56,
   "id": "ded12616-ab44-45e6-a8ec-ca1db1a808ad",
   "metadata": {},
   "outputs": [],
   "source": [
    "Reseau1['Var 24/23 num']=Reseau1['CA à fin novembre2024']-Reseau1['CA à fin novembre 2023']\n",
    "Reseau1['Var 24/23 perc']=(Reseau1['Var 24/23 num']*100 / Reseau1['CA à fin novembre 2023']).round(2)"
   ]
  },
  {
   "cell_type": "code",
   "execution_count": 58,
   "id": "d0a46809-4a47-4b63-9943-6c4937f6e729",
   "metadata": {},
   "outputs": [],
   "source": [
    "Reseau2['Var 24/23 num']=Reseau2['CA à fin novembre2024']-Reseau2['CA à fin novembre 2023']\n",
    "Reseau2['Var 24/23 perc']=(Reseau2['Var 24/23 num']*100 / Reseau2['CA à fin novembre 2023']).round(2)"
   ]
  },
  {
   "cell_type": "code",
   "execution_count": 60,
   "id": "f01ff7f8-65d1-49c0-999b-6700b3f42018",
   "metadata": {},
   "outputs": [],
   "source": [
    "Reseau3['Var 24/23 num']=Reseau3['CA à fin novembre2024']-Reseau3['CA à fin novembre 2023']\n",
    "Reseau3['Var 24/23 perc']=(Reseau3['Var 24/23 num']*100 / Reseau3['CA à fin novembre 2023'].abs()).round(2)"
   ]
  },
  {
   "cell_type": "code",
   "execution_count": 62,
   "id": "c15f6fef-9dd6-441b-9f47-958bd9d1d44d",
   "metadata": {},
   "outputs": [],
   "source": [
    "Reseau3=Reseau3.fillna(0)"
   ]
  },
  {
   "cell_type": "code",
   "execution_count": 66,
   "id": "a7b2c4cb-fabe-403d-9b54-9b4eb207f534",
   "metadata": {},
   "outputs": [
    {
     "data": {
      "text/html": [
       "<div>\n",
       "<style scoped>\n",
       "    .dataframe tbody tr th:only-of-type {\n",
       "        vertical-align: middle;\n",
       "    }\n",
       "\n",
       "    .dataframe tbody tr th {\n",
       "        vertical-align: top;\n",
       "    }\n",
       "\n",
       "    .dataframe thead th {\n",
       "        text-align: right;\n",
       "    }\n",
       "</style>\n",
       "<table border=\"1\" class=\"dataframe\">\n",
       "  <thead>\n",
       "    <tr style=\"text-align: right;\">\n",
       "      <th></th>\n",
       "      <th>Par_Branche</th>\n",
       "      <th>CA à fin novembre 2023</th>\n",
       "      <th>CA à fin novembre2024</th>\n",
       "      <th>Var 24/23 num</th>\n",
       "      <th>Var 24/23 perc</th>\n",
       "    </tr>\n",
       "  </thead>\n",
       "  <tbody>\n",
       "    <tr>\n",
       "      <th>0</th>\n",
       "      <td>Auto Mono</td>\n",
       "      <td>179</td>\n",
       "      <td>169</td>\n",
       "      <td>-10</td>\n",
       "      <td>-5.59</td>\n",
       "    </tr>\n",
       "    <tr>\n",
       "      <th>1</th>\n",
       "      <td>Auto Flotte</td>\n",
       "      <td>147</td>\n",
       "      <td>154</td>\n",
       "      <td>7</td>\n",
       "      <td>4.76</td>\n",
       "    </tr>\n",
       "    <tr>\n",
       "      <th>2</th>\n",
       "      <td>AT</td>\n",
       "      <td>269</td>\n",
       "      <td>274</td>\n",
       "      <td>5</td>\n",
       "      <td>1.86</td>\n",
       "    </tr>\n",
       "    <tr>\n",
       "      <th>3</th>\n",
       "      <td>Vie</td>\n",
       "      <td>811</td>\n",
       "      <td>893</td>\n",
       "      <td>82</td>\n",
       "      <td>10.11</td>\n",
       "    </tr>\n",
       "    <tr>\n",
       "      <th>4</th>\n",
       "      <td>Incendie et Multirisque</td>\n",
       "      <td>191</td>\n",
       "      <td>220</td>\n",
       "      <td>29</td>\n",
       "      <td>15.18</td>\n",
       "    </tr>\n",
       "    <tr>\n",
       "      <th>5</th>\n",
       "      <td>DIM</td>\n",
       "      <td>954</td>\n",
       "      <td>946</td>\n",
       "      <td>-8</td>\n",
       "      <td>-0.84</td>\n",
       "    </tr>\n",
       "    <tr>\n",
       "      <th>6</th>\n",
       "      <td>Autres</td>\n",
       "      <td>308</td>\n",
       "      <td>278</td>\n",
       "      <td>-30</td>\n",
       "      <td>-9.74</td>\n",
       "    </tr>\n",
       "    <tr>\n",
       "      <th>7</th>\n",
       "      <td>Total</td>\n",
       "      <td>2858</td>\n",
       "      <td>2934</td>\n",
       "      <td>76</td>\n",
       "      <td>2.66</td>\n",
       "    </tr>\n",
       "  </tbody>\n",
       "</table>\n",
       "</div>"
      ],
      "text/plain": [
       "               Par_Branche  CA à fin novembre 2023  CA à fin novembre2024  \\\n",
       "0                Auto Mono                     179                    169   \n",
       "1              Auto Flotte                     147                    154   \n",
       "2                       AT                     269                    274   \n",
       "3                      Vie                     811                    893   \n",
       "4  Incendie et Multirisque                     191                    220   \n",
       "5                      DIM                     954                    946   \n",
       "6                   Autres                     308                    278   \n",
       "7                    Total                    2858                   2934   \n",
       "\n",
       "   Var 24/23 num  Var 24/23 perc  \n",
       "0            -10           -5.59  \n",
       "1              7            4.76  \n",
       "2              5            1.86  \n",
       "3             82           10.11  \n",
       "4             29           15.18  \n",
       "5             -8           -0.84  \n",
       "6            -30           -9.74  \n",
       "7             76            2.66  "
      ]
     },
     "execution_count": 66,
     "metadata": {},
     "output_type": "execute_result"
    }
   ],
   "source": [
    "Reseau2"
   ]
  },
  {
   "cell_type": "code",
   "execution_count": 72,
   "id": "ede6be59-9efb-48de-b87b-76bd3aeaf33d",
   "metadata": {},
   "outputs": [],
   "source": [
    "Rappel_Budget_2024.to_excel('Rappel_Budget_2024_1.xlsx', index=False)\n",
    "Activité_novembre.to_excel('Activité_novembre_1.xlsx', index=False)\n",
    "Reseau1.to_excel('Reseau1_1.xlsx', index=False)\n",
    "Reseau2.to_excel('Reseau2_1.xlsx', index=False)\n",
    "Reseau3.to_excel('Reseau3_1.xlsx', index=False)"
   ]
  },
  {
   "cell_type": "code",
   "execution_count": 74,
   "id": "3a020b1b-60f8-4a64-8eba-e71d6dda7301",
   "metadata": {},
   "outputs": [
    {
     "name": "stdout",
     "output_type": "stream",
     "text": [
      "               Par_Branche  CA à fin novembre 2023  CA à fin novembre2024  \\\n",
      "0                Auto Mono                    1153                   1198   \n",
      "1              Auto Flotte                      76                     85   \n",
      "2                       AT                      94                    101   \n",
      "3                      Vie                      91                    146   \n",
      "4  Incendie et Multirisque                      61                     66   \n",
      "5                      DIM                      46                     48   \n",
      "6                   Autres                     133                    155   \n",
      "7                    Total                    1653                   1797   \n",
      "\n",
      "   Var 24/23 num  Var 24/23 perc  \n",
      "0             45            3.90  \n",
      "1              9           11.84  \n",
      "2              7            7.45  \n",
      "3             55           60.44  \n",
      "4              5            8.20  \n",
      "5              2            4.35  \n",
      "6             22           16.54  \n",
      "7            144            8.71                  Par_Branche  CA à fin novembre 2023  CA à fin novembre2024  \\\n",
      "0                Auto Mono                     179                    169   \n",
      "1              Auto Flotte                     147                    154   \n",
      "2                       AT                     269                    274   \n",
      "3                      Vie                     811                    893   \n",
      "4  Incendie et Multirisque                     191                    220   \n",
      "5                      DIM                     954                    946   \n",
      "6                   Autres                     308                    278   \n",
      "7                    Total                    2858                   2934   \n",
      "\n",
      "   Var 24/23 num  Var 24/23 perc  \n",
      "0            -10           -5.59  \n",
      "1              7            4.76  \n",
      "2              5            1.86  \n",
      "3             82           10.11  \n",
      "4             29           15.18  \n",
      "5             -8           -0.84  \n",
      "6            -30           -9.74  \n",
      "7             76            2.66                  Par_Branche  CA à fin novembre 2023  CA à fin novembre2024  \\\n",
      "0                Auto Mono                       0                      0   \n",
      "1              Auto Flotte                       0                      0   \n",
      "2                       AT                       0                      0   \n",
      "3                      Vie                      19                     33   \n",
      "4  Incendie et Multirisque                      10                     37   \n",
      "5                      DIM                      -4                     -6   \n",
      "6                   Autres                      50                     33   \n",
      "7                    Total                      75                     98   \n",
      "\n",
      "   Var 24/23 num  Var 24/23 perc  \n",
      "0              0            0.00  \n",
      "1              0            0.00  \n",
      "2              0            0.00  \n",
      "3             14           73.68  \n",
      "4             27          270.00  \n",
      "5             -2          -50.00  \n",
      "6            -17          -34.00  \n",
      "7             23           30.67  \n"
     ]
    }
   ],
   "source": [
    "print( Reseau1,Reseau2,Reseau3)"
   ]
  },
  {
   "cell_type": "code",
   "execution_count": null,
   "id": "d681f86c-8fc4-4576-a430-54d4e67f5179",
   "metadata": {},
   "outputs": [],
   "source": []
  }
 ],
 "metadata": {
  "kernelspec": {
   "display_name": "Python [conda env:base] *",
   "language": "python",
   "name": "conda-base-py"
  },
  "language_info": {
   "codemirror_mode": {
    "name": "ipython",
    "version": 3
   },
   "file_extension": ".py",
   "mimetype": "text/x-python",
   "name": "python",
   "nbconvert_exporter": "python",
   "pygments_lexer": "ipython3",
   "version": "3.12.7"
  }
 },
 "nbformat": 4,
 "nbformat_minor": 5
}
