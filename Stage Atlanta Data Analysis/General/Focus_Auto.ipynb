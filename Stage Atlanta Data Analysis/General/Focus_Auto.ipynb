{
 "cells": [
  {
   "cell_type": "code",
   "execution_count": 1,
   "id": "8a5b5bb9-5ddc-4983-81f1-e2c547893ef7",
   "metadata": {},
   "outputs": [],
   "source": [
    "import pdfplumber\n",
    "import pandas as pd\n",
    "import matplotlib.pyplot as plt\n",
    "import pandas as pd\n",
    "import numpy as np\n",
    "\n",
    "with pdfplumber.open(\"C:/Users/HP/Downloads/Préz_Comités.pdf\") as file:\n",
    "    tables = []\n",
    "    for i in file.pages:\n",
    "        tables.extend(i.extract_tables())\n",
    "\n",
    "\n",
    "dataframes = []\n",
    "for table in tables:\n",
    "    df = pd.DataFrame(table[1:], columns=table[0])\n",
    "    dataframes.append(df)"
   ]
  },
  {
   "cell_type": "code",
   "execution_count": 2,
   "id": "9cae13d7-65ca-4e80-be0f-ad658e4f40d8",
   "metadata": {},
   "outputs": [],
   "source": [
    "dataframes=dataframes[5:]"
   ]
  },
  {
   "cell_type": "code",
   "execution_count": 3,
   "id": "b076782d-fc1e-4974-ae00-9db64983f410",
   "metadata": {},
   "outputs": [],
   "source": [
    "for i in range(len(dataframes)):\n",
    "    dataframes[i].fillna('', inplace=True) "
   ]
  },
  {
   "cell_type": "code",
   "execution_count": 4,
   "id": "5258aac8-dad7-41e0-9bb3-cf9fcf550509",
   "metadata": {},
   "outputs": [],
   "source": [
    "dataframes[0].columns = ['Mono/Flotte', ' Reel 2023', 'Budget2024', 'Var24/23MMAD', 'Var24/23perc']\n",
    "dataframes[0] = dataframes[0].drop([0]).reset_index(drop=True)\n"
   ]
  },
  {
   "cell_type": "code",
   "execution_count": 6,
   "id": "f782b650-b32b-4d5a-ab62-0340bdb3956f",
   "metadata": {},
   "outputs": [],
   "source": [
    "dataframes[1].columns = ['Mono/Flotte', 'CA à fin novembre 2023', 'CA à fin novembre 2024', 'Var24/23MMAD', 'Var24/23perc']\n",
    "dataframes[1] = dataframes[1].drop([0]).reset_index(drop=True)\n"
   ]
  },
  {
   "cell_type": "code",
   "execution_count": 18,
   "id": "02f67bd9-3970-4a5d-b705-9e349a86bb0b",
   "metadata": {},
   "outputs": [],
   "source": [
    "dataframes[2].columns = ['Par Réseau', 'Reel 2023', 'Budget 2024', 'Var24/23MMAD', 'Var24/23perc']\n",
    "dataframes[2] = dataframes[2].drop([0]).reset_index(drop=True)"
   ]
  },
  {
   "cell_type": "code",
   "execution_count": 24,
   "id": "5543624a-ba28-4727-9d82-962fb76339a8",
   "metadata": {},
   "outputs": [],
   "source": [
    "dataframes[3].columns = ['Mono/Flotte', 'CA à fin novembre 2023', 'CA à fin novembre 2024', 'Var24/23MMAD', 'Var24/23perc']\n",
    "dataframes[3] = dataframes[3].drop([0]).reset_index(drop=True)"
   ]
  },
  {
   "cell_type": "code",
   "execution_count": 30,
   "id": "68a953f4-305c-4d7d-872a-8aad8e2a6fd5",
   "metadata": {},
   "outputs": [],
   "source": [
    "dataframes[4].columns = ['Mono/Flotte', 'CA à fin novembre 2023', 'CA à fin novembre 2024', 'Var24/23MMAD', 'Var24/23perc']\n",
    "dataframes[4] = dataframes[4].drop([0]).reset_index(drop=True)"
   ]
  },
  {
   "cell_type": "code",
   "execution_count": 5,
   "id": "17cb7d48-031a-4de6-b4e0-43624b3fc9d5",
   "metadata": {},
   "outputs": [
    {
     "data": {
      "text/html": [
       "<div>\n",
       "<style scoped>\n",
       "    .dataframe tbody tr th:only-of-type {\n",
       "        vertical-align: middle;\n",
       "    }\n",
       "\n",
       "    .dataframe tbody tr th {\n",
       "        vertical-align: top;\n",
       "    }\n",
       "\n",
       "    .dataframe thead th {\n",
       "        text-align: right;\n",
       "    }\n",
       "</style>\n",
       "<table border=\"1\" class=\"dataframe\">\n",
       "  <thead>\n",
       "    <tr style=\"text-align: right;\">\n",
       "      <th></th>\n",
       "      <th>Mono/Flotte</th>\n",
       "      <th>Reel 2023</th>\n",
       "      <th>Budget2024</th>\n",
       "      <th>Var24/23MMAD</th>\n",
       "      <th>Var24/23perc</th>\n",
       "    </tr>\n",
       "  </thead>\n",
       "  <tbody>\n",
       "    <tr>\n",
       "      <th>0</th>\n",
       "      <td>Mono</td>\n",
       "      <td>1 453</td>\n",
       "      <td>1 531</td>\n",
       "      <td>78</td>\n",
       "      <td>5,4%</td>\n",
       "    </tr>\n",
       "    <tr>\n",
       "      <th>1</th>\n",
       "      <td>Flotte</td>\n",
       "      <td>225</td>\n",
       "      <td>256</td>\n",
       "      <td>31</td>\n",
       "      <td>13,6%</td>\n",
       "    </tr>\n",
       "    <tr>\n",
       "      <th>2</th>\n",
       "      <td>Total</td>\n",
       "      <td>1 678</td>\n",
       "      <td>1 787</td>\n",
       "      <td>109</td>\n",
       "      <td>6,5%</td>\n",
       "    </tr>\n",
       "  </tbody>\n",
       "</table>\n",
       "</div>"
      ],
      "text/plain": [
       "  Mono/Flotte  Reel 2023 Budget2024 Var24/23MMAD Var24/23perc\n",
       "0        Mono      1 453      1 531           78         5,4%\n",
       "1      Flotte        225        256           31        13,6%\n",
       "2       Total      1 678      1 787          109         6,5%"
      ]
     },
     "execution_count": 5,
     "metadata": {},
     "output_type": "execute_result"
    }
   ],
   "source": [
    "dataframes[0]\n"
   ]
  },
  {
   "cell_type": "code",
   "execution_count": 7,
   "id": "d1a02ea7-61df-45f3-8ffa-09f09b725a8c",
   "metadata": {},
   "outputs": [
    {
     "data": {
      "text/html": [
       "<div>\n",
       "<style scoped>\n",
       "    .dataframe tbody tr th:only-of-type {\n",
       "        vertical-align: middle;\n",
       "    }\n",
       "\n",
       "    .dataframe tbody tr th {\n",
       "        vertical-align: top;\n",
       "    }\n",
       "\n",
       "    .dataframe thead th {\n",
       "        text-align: right;\n",
       "    }\n",
       "</style>\n",
       "<table border=\"1\" class=\"dataframe\">\n",
       "  <thead>\n",
       "    <tr style=\"text-align: right;\">\n",
       "      <th></th>\n",
       "      <th>Mono/Flotte</th>\n",
       "      <th>CA à fin novembre 2023</th>\n",
       "      <th>CA à fin novembre 2024</th>\n",
       "      <th>Var24/23MMAD</th>\n",
       "      <th>Var24/23perc</th>\n",
       "    </tr>\n",
       "  </thead>\n",
       "  <tbody>\n",
       "    <tr>\n",
       "      <th>0</th>\n",
       "      <td>Mono</td>\n",
       "      <td>1 332</td>\n",
       "      <td>1 367</td>\n",
       "      <td>35</td>\n",
       "      <td>2,6%</td>\n",
       "    </tr>\n",
       "    <tr>\n",
       "      <th>1</th>\n",
       "      <td>Flotte</td>\n",
       "      <td>223</td>\n",
       "      <td>239</td>\n",
       "      <td>16</td>\n",
       "      <td>7,3%</td>\n",
       "    </tr>\n",
       "    <tr>\n",
       "      <th>2</th>\n",
       "      <td>Total</td>\n",
       "      <td>1 554</td>\n",
       "      <td>1 606</td>\n",
       "      <td>51</td>\n",
       "      <td>3,3%</td>\n",
       "    </tr>\n",
       "  </tbody>\n",
       "</table>\n",
       "</div>"
      ],
      "text/plain": [
       "  Mono/Flotte CA à fin novembre 2023 CA à fin novembre 2024 Var24/23MMAD  \\\n",
       "0        Mono                  1 332                  1 367           35   \n",
       "1      Flotte                    223                    239           16   \n",
       "2       Total                  1 554                  1 606           51   \n",
       "\n",
       "  Var24/23perc  \n",
       "0         2,6%  \n",
       "1         7,3%  \n",
       "2         3,3%  "
      ]
     },
     "execution_count": 7,
     "metadata": {},
     "output_type": "execute_result"
    }
   ],
   "source": [
    "dataframes[1]\n"
   ]
  },
  {
   "cell_type": "code",
   "execution_count": 84,
   "id": "63394897-980a-4975-9c22-8084c529a270",
   "metadata": {},
   "outputs": [
    {
     "data": {
      "text/html": [
       "<div>\n",
       "<style scoped>\n",
       "    .dataframe tbody tr th:only-of-type {\n",
       "        vertical-align: middle;\n",
       "    }\n",
       "\n",
       "    .dataframe tbody tr th {\n",
       "        vertical-align: top;\n",
       "    }\n",
       "\n",
       "    .dataframe thead th {\n",
       "        text-align: right;\n",
       "    }\n",
       "</style>\n",
       "<table border=\"1\" class=\"dataframe\">\n",
       "  <thead>\n",
       "    <tr style=\"text-align: right;\">\n",
       "      <th></th>\n",
       "      <th>Par Réseau</th>\n",
       "      <th>Reel 2023</th>\n",
       "      <th>Budget 2024</th>\n",
       "      <th>Var24/23MMAD</th>\n",
       "      <th>Var24/23perc</th>\n",
       "    </tr>\n",
       "  </thead>\n",
       "  <tbody>\n",
       "    <tr>\n",
       "      <th>0</th>\n",
       "      <td>Réseau1</td>\n",
       "      <td>1260</td>\n",
       "      <td>1329</td>\n",
       "      <td>69</td>\n",
       "      <td>5.5</td>\n",
       "    </tr>\n",
       "    <tr>\n",
       "      <th>1</th>\n",
       "      <td>Réseau2</td>\n",
       "      <td>193</td>\n",
       "      <td>202</td>\n",
       "      <td>9</td>\n",
       "      <td>4.7</td>\n",
       "    </tr>\n",
       "    <tr>\n",
       "      <th>2</th>\n",
       "      <td>Total</td>\n",
       "      <td>1453</td>\n",
       "      <td>1531</td>\n",
       "      <td>78</td>\n",
       "      <td>5.4</td>\n",
       "    </tr>\n",
       "  </tbody>\n",
       "</table>\n",
       "</div>"
      ],
      "text/plain": [
       "  Par Réseau  Reel 2023  Budget 2024  Var24/23MMAD  Var24/23perc\n",
       "0    Réseau1       1260         1329            69           5.5\n",
       "1    Réseau2        193          202             9           4.7\n",
       "2      Total       1453         1531            78           5.4"
      ]
     },
     "execution_count": 84,
     "metadata": {},
     "output_type": "execute_result"
    }
   ],
   "source": [
    "dataframes[2]"
   ]
  },
  {
   "cell_type": "code",
   "execution_count": 68,
   "id": "fc663e96-6bbb-4d7f-87bc-6958e05ae09b",
   "metadata": {},
   "outputs": [
    {
     "name": "stderr",
     "output_type": "stream",
     "text": [
      "C:\\Users\\HP\\AppData\\Local\\Temp\\ipykernel_13960\\2382416427.py:4: FutureWarning: errors='ignore' is deprecated and will raise in a future version. Use to_numeric without passing `errors` and catch exceptions explicitly instead\n",
      "  df = df.apply(pd.to_numeric, errors='ignore')\n",
      "C:\\Users\\HP\\AppData\\Local\\Temp\\ipykernel_13960\\2382416427.py:4: FutureWarning: errors='ignore' is deprecated and will raise in a future version. Use to_numeric without passing `errors` and catch exceptions explicitly instead\n",
      "  df = df.apply(pd.to_numeric, errors='ignore')\n",
      "C:\\Users\\HP\\AppData\\Local\\Temp\\ipykernel_13960\\2382416427.py:4: FutureWarning: errors='ignore' is deprecated and will raise in a future version. Use to_numeric without passing `errors` and catch exceptions explicitly instead\n",
      "  df = df.apply(pd.to_numeric, errors='ignore')\n",
      "C:\\Users\\HP\\AppData\\Local\\Temp\\ipykernel_13960\\2382416427.py:4: FutureWarning: errors='ignore' is deprecated and will raise in a future version. Use to_numeric without passing `errors` and catch exceptions explicitly instead\n",
      "  df = df.apply(pd.to_numeric, errors='ignore')\n",
      "C:\\Users\\HP\\AppData\\Local\\Temp\\ipykernel_13960\\2382416427.py:4: FutureWarning: errors='ignore' is deprecated and will raise in a future version. Use to_numeric without passing `errors` and catch exceptions explicitly instead\n",
      "  df = df.apply(pd.to_numeric, errors='ignore')\n"
     ]
    }
   ],
   "source": [
    "for i in range(len(dataframes)):\n",
    "    df = dataframes[i].copy()\n",
    "    df = df.apply(lambda col: col.astype(str).str.replace('%', '').str.replace(',', '.').str.replace(' ', '', regex=True) if col.dtype == 'object' else col)\n",
    "    df = df.apply(pd.to_numeric, errors='ignore')\n",
    "    \n",
    "    dataframes[i] = df\n"
   ]
  },
  {
   "cell_type": "code",
   "execution_count": 78,
   "id": "a3f5d9f7-b381-4da7-b230-56e240b2f309",
   "metadata": {},
   "outputs": [
    {
     "name": "stdout",
     "output_type": "stream",
     "text": [
      "<class 'pandas.core.frame.DataFrame'>\n",
      "RangeIndex: 3 entries, 0 to 2\n",
      "Data columns (total 5 columns):\n",
      " #   Column                  Non-Null Count  Dtype  \n",
      "---  ------                  --------------  -----  \n",
      " 0   Mono/Flotte             3 non-null      object \n",
      " 1   CA à fin novembre 2023  3 non-null      int64  \n",
      " 2   CA à fin novembre 2024  3 non-null      int64  \n",
      " 3   Var24/23MMAD            3 non-null      int64  \n",
      " 4   Var24/23perc            3 non-null      float64\n",
      "dtypes: float64(1), int64(3), object(1)\n",
      "memory usage: 252.0+ bytes\n"
     ]
    }
   ],
   "source": [
    "dataframes[4].info()"
   ]
  },
  {
   "cell_type": "code",
   "execution_count": 86,
   "id": "86f48524-889e-4fa2-8d28-c9da1345127f",
   "metadata": {},
   "outputs": [],
   "source": [
    "budget2024_ToutCanal=dataframes[0]\n",
    "budget2024_FocusMonoparCanal=dataframes[2]\n",
    "Activite2024_TousReseauxConfondus=dataframes[1]\n",
    "Activite2024_Reseau1=dataframes[3]\n",
    "Activite2024_Reseau2=dataframes[4]"
   ]
  },
  {
   "cell_type": "code",
   "execution_count": null,
   "id": "05e1ed70-edcd-4cf2-93b0-24fd6e10dede",
   "metadata": {},
   "outputs": [],
   "source": [
    "budget2024_ToutCanal.to_excel('Rappel_Budget_2024_1.xlsx', index=False)\n",
    "budget2024_FocusMonoparCanal\n",
    "Activite2024_TousReseauxConfondus\n",
    "Activite2024_Reseau1\n",
    "Activite2024_Reseau2"
   ]
  }
 ],
 "metadata": {
  "kernelspec": {
   "display_name": "Python [conda env:base] *",
   "language": "python",
   "name": "conda-base-py"
  },
  "language_info": {
   "codemirror_mode": {
    "name": "ipython",
    "version": 3
   },
   "file_extension": ".py",
   "mimetype": "text/x-python",
   "name": "python",
   "nbconvert_exporter": "python",
   "pygments_lexer": "ipython3",
   "version": "3.12.7"
  }
 },
 "nbformat": 4,
 "nbformat_minor": 5
}
